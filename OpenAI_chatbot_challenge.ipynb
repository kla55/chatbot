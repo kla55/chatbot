{
 "cells": [
  {
   "cell_type": "code",
   "execution_count": null,
   "id": "c575ed22-639f-43cd-8341-940c3cb7aa46",
   "metadata": {},
   "outputs": [],
   "source": [
    "import os\n",
    "import openai"
   ]
  },
  {
   "cell_type": "code",
   "execution_count": null,
   "id": "aa69b328-46fb-4ba7-845e-096b5c91c395",
   "metadata": {},
   "outputs": [],
   "source": [
    "message = [{\n",
    "   'role': 'system', \n",
    "    'content':('You are an assistent at a museum that specializes in nature and science exhibits. \\n'\n",
    "                'The museum attract visitors of all ages, from curious children to enthusiatics adults. \\n'\n",
    "                'Your primary objective is to enhance the visitor experience by providing .'\n",
    "               ,\n",
    "    }\n",
    "    ]"
   ]
  },
  {
   "cell_type": "code",
   "execution_count": null,
   "id": "3efb2766-6a0a-430f-9e06-0d072db965d2",
   "metadata": {},
   "outputs": [],
   "source": [
    "messages.append(\n",
    "    {'role': 'user', \n",
    "     'content': 'Tell me about the civil war?')\n",
    "}"
   ]
  }
 ],
 "metadata": {
  "kernelspec": {
   "display_name": "Python 3 (ipykernel)",
   "language": "python",
   "name": "python3"
  },
  "language_info": {
   "codemirror_mode": {
    "name": "ipython",
    "version": 3
   },
   "file_extension": ".py",
   "mimetype": "text/x-python",
   "name": "python",
   "nbconvert_exporter": "python",
   "pygments_lexer": "ipython3",
   "version": "3.11.5"
  }
 },
 "nbformat": 4,
 "nbformat_minor": 5
}
