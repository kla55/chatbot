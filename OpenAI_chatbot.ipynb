{
 "cells": [
  {
   "cell_type": "code",
   "execution_count": 2,
   "id": "ae6c194c-3ccf-46ef-a91f-931484ad25c3",
   "metadata": {},
   "outputs": [],
   "source": [
    "import os\n",
    "import openai"
   ]
  },
  {
   "cell_type": "markdown",
   "id": "be98bbdd-356c-49f2-bf8f-0c28a619179c",
   "metadata": {},
   "source": [
    "os.environ['API_KEY'] = ''\n",
    "open.api_key = os.gateway('API_KEY')"
   ]
  },
  {
   "cell_type": "code",
   "execution_count": null,
   "id": "5ed826f4-413a-457b-89f7-beb519f7f4ab",
   "metadata": {},
   "outputs": [],
   "source": [
    "response = openai.Completioncreate(\n",
    "    engine = \n",
    "    prompt = \n",
    "    max_tokens = \n",
    "    )\n",
    "\n",
    "print(response)"
   ]
  }
 ],
 "metadata": {
  "kernelspec": {
   "display_name": "Python 3 (ipykernel)",
   "language": "python",
   "name": "python3"
  },
  "language_info": {
   "codemirror_mode": {
    "name": "ipython",
    "version": 3
   },
   "file_extension": ".py",
   "mimetype": "text/x-python",
   "name": "python",
   "nbconvert_exporter": "python",
   "pygments_lexer": "ipython3",
   "version": "3.11.5"
  }
 },
 "nbformat": 4,
 "nbformat_minor": 5
}
