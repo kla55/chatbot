{
 "cells": [
  {
   "cell_type": "code",
   "execution_count": 2,
   "id": "ae6c194c-3ccf-46ef-a91f-931484ad25c3",
   "metadata": {},
   "outputs": [],
   "source": [
    "import os\n",
    "import openai"
   ]
  },
  {
   "cell_type": "markdown",
   "id": "be98bbdd-356c-49f2-bf8f-0c28a619179c",
   "metadata": {},
   "source": [
    "os.environ['API_KEY'] = ''\n",
    "open.api_key = os.gateway('API_KEY')"
   ]
  },
  {
   "cell_type": "code",
   "execution_count": null,
   "id": "5ed826f4-413a-457b-89f7-beb519f7f4ab",
   "metadata": {},
   "outputs": [],
   "source": [
    "response = openai.Completioncreate(\n",
    "    engine = \n",
    "    prompt = \n",
    "    max_tokens = \n",
    "    )\n",
    "\n",
    "print(response)"
   ]
  },
  {
   "cell_type": "code",
   "execution_count": 4,
   "id": "bcab4d3f-be94-46a4-8005-354defd060c1",
   "metadata": {},
   "outputs": [],
   "source": [
    "prompt = 'What are the opening houses of the zoo?'"
   ]
  },
  {
   "cell_type": "code",
   "execution_count": null,
   "id": "e20cf6e6-6f21-4bf2-a36b-2bf9bf37dbc9",
   "metadata": {},
   "outputs": [],
   "source": [
    "reponse = openai.Completeion.create(\n",
    "    engine = 'text-davinci-033',\n",
    "    prompt = prompt,\n",
    "    max_token = 30, \n",
    ")"
   ]
  },
  {
   "cell_type": "code",
   "execution_count": null,
   "id": "a4706913-88cc-437c-8caa-314f6b34d7c2",
   "metadata": {},
   "outputs": [],
   "source": [
    "print('model: ', reponse.model)\n",
    "print('created: ', reponse.created)\n",
    "print('ID:', reponse.id)"
   ]
  },
  {
   "cell_type": "code",
   "execution_count": null,
   "id": "268774cd-a9ec-4a92-af72-8a5357ca8bbb",
   "metadata": {},
   "outputs": [],
   "source": [
    "print(reponse.choices[2].text.strip())"
   ]
  },
  {
   "cell_type": "code",
   "execution_count": null,
   "id": "c4f7ec33-09cf-454e-ad68-c7789d69d927",
   "metadata": {},
   "outputs": [],
   "source": []
  },
  {
   "cell_type": "code",
   "execution_count": null,
   "id": "8b764a9c-bc6e-4db4-980d-55ac6f05306d",
   "metadata": {},
   "outputs": [],
   "source": []
  }
 ],
 "metadata": {
  "kernelspec": {
   "display_name": "Python 3 (ipykernel)",
   "language": "python",
   "name": "python3"
  },
  "language_info": {
   "codemirror_mode": {
    "name": "ipython",
    "version": 3
   },
   "file_extension": ".py",
   "mimetype": "text/x-python",
   "name": "python",
   "nbconvert_exporter": "python",
   "pygments_lexer": "ipython3",
   "version": "3.11.5"
  }
 },
 "nbformat": 4,
 "nbformat_minor": 5
}
