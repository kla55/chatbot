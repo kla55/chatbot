{
 "cells": [
  {
   "cell_type": "code",
   "execution_count": 2,
   "id": "ae6c194c-3ccf-46ef-a91f-931484ad25c3",
   "metadata": {},
   "outputs": [],
   "source": [
    "import os\n",
    "import openai"
   ]
  },
  {
   "cell_type": "markdown",
   "id": "be98bbdd-356c-49f2-bf8f-0c28a619179c",
   "metadata": {},
   "source": [
    "os.environ['API_KEY'] = ''\n",
    "open.api_key = os.gateway('API_KEY')"
   ]
  },
  {
   "cell_type": "code",
   "execution_count": null,
   "id": "5ed826f4-413a-457b-89f7-beb519f7f4ab",
   "metadata": {},
   "outputs": [],
   "source": [
    "response = openai.Completioncreate(\n",
    "    engine = \n",
    "    prompt = \n",
    "    max_tokens = \n",
    "    )\n",
    "\n",
    "print(response)"
   ]
  },
  {
   "cell_type": "code",
   "execution_count": 4,
   "id": "bcab4d3f-be94-46a4-8005-354defd060c1",
   "metadata": {},
   "outputs": [],
   "source": [
    "prompt = 'What are the opening houses of the zoo?'"
   ]
  },
  {
   "cell_type": "code",
   "execution_count": null,
   "id": "e20cf6e6-6f21-4bf2-a36b-2bf9bf37dbc9",
   "metadata": {},
   "outputs": [],
   "source": [
    "reponse = openai.Completeion.create(\n",
    "    engine = 'text-davinci-033',\n",
    "    prompt = prompt,\n",
    "    max_token = 30, \n",
    ")"
   ]
  },
  {
   "cell_type": "code",
   "execution_count": null,
   "id": "a4706913-88cc-437c-8caa-314f6b34d7c2",
   "metadata": {},
   "outputs": [],
   "source": [
    "print('model: ', reponse.model)\n",
    "print('created: ', reponse.created)\n",
    "print('ID:', reponse.id)"
   ]
  },
  {
   "cell_type": "code",
   "execution_count": null,
   "id": "268774cd-a9ec-4a92-af72-8a5357ca8bbb",
   "metadata": {},
   "outputs": [],
   "source": [
    "print(reponse.choices[2].text.strip())"
   ]
  },
  {
   "cell_type": "code",
   "execution_count": null,
   "id": "c4f7ec33-09cf-454e-ad68-c7789d69d927",
   "metadata": {},
   "outputs": [],
   "source": [
    "message = [\n",
    "    ('role': 'system', 'content': 'You are a helpful assistant'),\n",
    "    ('role': 'user', 'content': 'Who won the world series in 2020?'),\n",
    "    ('role': 'assistant', 'content': 'You always start a conversation with the phrase, Wait! Who goes there?'),\n",
    "\n",
    "\n",
    "]"
   ]
  },
  {
   "cell_type": "code",
   "execution_count": null,
   "id": "47c2023c-ca2e-4875-b097-51012b87ff50",
   "metadata": {},
   "outputs": [],
   "source": [
    "response = openai.ChatCompletion.create(    \n",
    "    engine = 'gpt-3.4-turbo',\n",
    "    messages = message,\n",
    "    max_token = 30, \n",
    ")\n",
    "print(reponse.choices[0]['message']['content'])"
   ]
  },
  {
   "cell_type": "code",
   "execution_count": null,
   "id": "3f577213-dbaf-495c-83fa-79d7d9ae36af",
   "metadata": {},
   "outputs": [],
   "source": [
    "messages.append(\n",
    "    {'role': 'user', \n",
    "     'content': 'What about the elephants?')\n",
    "}\n",
    "print(reponse.choices[0]['message']['content'])"
   ]
  },
  {
   "cell_type": "code",
   "execution_count": null,
   "id": "ba8fa9fd-9e30-4a99-94d8-1786ac2c3225",
   "metadata": {},
   "outputs": [],
   "source": [
    "# High temperture\n",
    "reponse = openai.Completeion.create(\n",
    "    engine = 'gpt-3.4-turbo',\n",
    "    messages = messages,\n",
    "    tempreture = 0.6\n",
    "    max_token = 100, \n",
    ")\n",
    "\n",
    "# Low temperture\n",
    "response = openai.Completeion.create(\n",
    "    engine = 'gpt-3.4-turbo',\n",
    "    messages = messages,\n",
    "    tempreture = 0.6\n",
    "    max_token = 100, \n",
    ")"
   ]
  },
  {
   "cell_type": "code",
   "execution_count": null,
   "id": "25a3bcad-c395-440c-ab19-2edb0371b962",
   "metadata": {},
   "outputs": [],
   "source": [
    "zoo_message = [{\n",
    "   ('role': 'system', \n",
    "    'content': ('You are an assistent for an imaginate zoo. \\n'\n",
    "                'You have detailed knowledge about various animeals, their habitats, \\n'\n",
    "                'feeding times, and the zoos daily activity schedule.'\n",
    "               ),\n",
    "    }\n",
    "   {'role': 'user',\n",
    "    'content': 'Tell me about every animal in the zoo in detail?'\n",
    "   }\n",
    "    ]\n",
    "\n",
    "try:\n",
    "    response =  openai.Completeion.create(\n",
    "    engine = 'gpt-3.4-turbo',\n",
    "    messages = zoo_message,\n",
    "    tempreture = 0.6\n",
    "    max_token = 100, \n",
    ")\n",
    "\n",
    "    print(reponse.choices[0]['message']['content'])\n",
    "except Exceptions as e:\n",
    "    print(f'receive an error from the OPENAI API: {e}')"
   ]
  },
  {
   "cell_type": "markdown",
   "id": "307f71c9-a806-45c4-8f6d-d5b90c12d2ec",
   "metadata": {},
   "source": [
    "# Chatbot exercise"
   ]
  },
  {
   "cell_type": "code",
   "execution_count": null,
   "id": "8b764a9c-bc6e-4db4-980d-55ac6f05306d",
   "metadata": {},
   "outputs": [],
   "source": [
    "import os\n",
    "import openai"
   ]
  },
  {
   "cell_type": "code",
   "execution_count": null,
   "id": "f607d219-57b0-4320-af01-ea0b380875f0",
   "metadata": {},
   "outputs": [],
   "source": [
    "open.api_key = 'API_KEY'"
   ]
  },
  {
   "cell_type": "code",
   "execution_count": null,
   "id": "3fe4788e-6c58-4b93-8d71-5b40f07889ac",
   "metadata": {},
   "outputs": [],
   "source": [
    "zoo_message = [{\n",
    "   'role': 'system', \n",
    "    'content': 'You are an assistent at a museum that specializes in nature and science exhibits. \\n'\n",
    "                'The museum attract visitors of all ages, from curious children to enthusiatics adults. \\n'\n",
    "                'Your primary objective is to enhance the visitor experience by providing .'\n",
    "               ,\n",
    "    }\n",
    "   {'role': 'user',\n",
    "    'content': 'Tell me about every animal in the zoo in detail?'\n",
    "   }\n",
    "    ]"
   ]
  },
  {
   "cell_type": "code",
   "execution_count": null,
   "id": "11c092bd-fdfa-4aa1-bfed-cfae9673e8bb",
   "metadata": {},
   "outputs": [],
   "source": []
  },
  {
   "cell_type": "code",
   "execution_count": null,
   "id": "ed8aa1fd-9c93-4a5e-bdbd-9066632e5837",
   "metadata": {},
   "outputs": [],
   "source": []
  },
  {
   "cell_type": "code",
   "execution_count": null,
   "id": "6846fb27-e6cc-4e5f-bca3-83efe1d3ff6b",
   "metadata": {},
   "outputs": [],
   "source": []
  },
  {
   "cell_type": "code",
   "execution_count": null,
   "id": "2b684444-de81-4c71-b631-661b4f5e76ee",
   "metadata": {},
   "outputs": [],
   "source": []
  }
 ],
 "metadata": {
  "kernelspec": {
   "display_name": "Python 3 (ipykernel)",
   "language": "python",
   "name": "python3"
  },
  "language_info": {
   "codemirror_mode": {
    "name": "ipython",
    "version": 3
   },
   "file_extension": ".py",
   "mimetype": "text/x-python",
   "name": "python",
   "nbconvert_exporter": "python",
   "pygments_lexer": "ipython3",
   "version": "3.11.5"
  }
 },
 "nbformat": 4,
 "nbformat_minor": 5
}
